{
 "cells": [
  {
   "cell_type": "markdown",
   "id": "3b0ba953-d5c6-4682-af83-129c05ee8eae",
   "metadata": {},
   "source": [
    "# NumPy Mixed\n",
    "this notebook is intended for learning and experimenting\n",
    "with numPy and its features"
   ]
  },
  {
   "cell_type": "code",
   "execution_count": 1,
   "id": "50aa81ac-72ca-4151-b736-978cc097c5ac",
   "metadata": {},
   "outputs": [],
   "source": [
    "import numpy as np"
   ]
  },
  {
   "cell_type": "markdown",
   "id": "ba685427-22d2-4ddb-be28-62640efa4ee5",
   "metadata": {},
   "source": [
    "### arrays"
   ]
  },
  {
   "cell_type": "code",
   "execution_count": 2,
   "id": "8ad42bbb-8b8d-4106-a71f-a4ae1bd2eecf",
   "metadata": {},
   "outputs": [],
   "source": [
    "a = np.array([1,2,3,4,5])"
   ]
  },
  {
   "cell_type": "markdown",
   "id": "b0f34e0c-6f0b-4311-8d21-97e477ee3a75",
   "metadata": {},
   "source": [
    "below are the methods to see the propreties of the arrays."
   ]
  },
  {
   "cell_type": "code",
   "execution_count": 8,
   "id": "df271a7f-fa3b-495f-9f3d-a6ebb95b43f8",
   "metadata": {},
   "outputs": [
    {
     "name": "stdout",
     "output_type": "stream",
     "text": [
      "[0 2 3 4 5]\n",
      "(5,)\n",
      "int32\n",
      "1\n",
      "5\n",
      "4\n",
      "14\n"
     ]
    }
   ],
   "source": [
    "print(a)\n",
    "print(a.shape)\n",
    "print(a.dtype)\n",
    "print(a.ndim)\n",
    "print(a.size)\n",
    "print(a.itemsize)\n",
    "print(np.sum(a))"
   ]
  },
  {
   "cell_type": "code",
   "execution_count": 6,
   "id": "bfd53816-6dc5-48c0-ae74-0b516839be27",
   "metadata": {},
   "outputs": [
    {
     "name": "stdout",
     "output_type": "stream",
     "text": [
      "[ 0  4  9 16 25]\n"
     ]
    }
   ],
   "source": [
    "a[0] = 0\n",
    "b = a * np.array([1,2,3,4,5])\n",
    "print(b)"
   ]
  },
  {
   "cell_type": "markdown",
   "id": "1c728617-d576-43de-bd75-91970d72e732",
   "metadata": {},
   "source": [
    "### dot-product"
   ]
  },
  {
   "cell_type": "code",
   "execution_count": 7,
   "id": "b157c2de-ddbd-4aa2-8916-49ee0c3b25eb",
   "metadata": {},
   "outputs": [
    {
     "name": "stdout",
     "output_type": "stream",
     "text": [
      "-67\n"
     ]
    }
   ],
   "source": [
    "a1 = np.array([1,7,9,13])\n",
    "a2 = np.array([7,-4,-8,2])\n",
    "\n",
    "dot = np.dot(a1,a2)\n",
    "print(dot)"
   ]
  },
  {
   "cell_type": "code",
   "execution_count": null,
   "id": "d4327e2a-bf33-42eb-8104-4a23bd4b0c0f",
   "metadata": {},
   "outputs": [],
   "source": []
  }
 ],
 "metadata": {
  "kernelspec": {
   "display_name": "Python 3 (ipykernel)",
   "language": "python",
   "name": "python3"
  },
  "language_info": {
   "codemirror_mode": {
    "name": "ipython",
    "version": 3
   },
   "file_extension": ".py",
   "mimetype": "text/x-python",
   "name": "python",
   "nbconvert_exporter": "python",
   "pygments_lexer": "ipython3",
   "version": "3.11.3"
  }
 },
 "nbformat": 4,
 "nbformat_minor": 5
}
