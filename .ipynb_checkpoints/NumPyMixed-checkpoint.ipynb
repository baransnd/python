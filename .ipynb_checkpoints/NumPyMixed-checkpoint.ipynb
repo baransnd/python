{
 "cells": [
  {
   "cell_type": "markdown",
   "id": "3b0ba953-d5c6-4682-af83-129c05ee8eae",
   "metadata": {},
   "source": [
    "# NumPy Mixed\n",
    "this notebook is intended for learning and experimenting\n",
    "with numPy and its features"
   ]
  },
  {
   "cell_type": "code",
   "execution_count": 5,
   "id": "50aa81ac-72ca-4151-b736-978cc097c5ac",
   "metadata": {},
   "outputs": [],
   "source": [
    "import numpy as np"
   ]
  },
  {
   "cell_type": "markdown",
   "id": "ba685427-22d2-4ddb-be28-62640efa4ee5",
   "metadata": {},
   "source": [
    "### arrays"
   ]
  },
  {
   "cell_type": "code",
   "execution_count": 6,
   "id": "8ad42bbb-8b8d-4106-a71f-a4ae1bd2eecf",
   "metadata": {},
   "outputs": [],
   "source": [
    "a = np.array([1,2,3,4,5])"
   ]
  },
  {
   "cell_type": "markdown",
   "id": "b0f34e0c-6f0b-4311-8d21-97e477ee3a75",
   "metadata": {},
   "source": [
    "below are the methods to see the propreties of the arrays."
   ]
  },
  {
   "cell_type": "code",
   "execution_count": 7,
   "id": "df271a7f-fa3b-495f-9f3d-a6ebb95b43f8",
   "metadata": {},
   "outputs": [
    {
     "name": "stdout",
     "output_type": "stream",
     "text": [
      "[1 2 3 4 5]\n",
      "(5,)\n",
      "int32\n",
      "1\n",
      "5\n",
      "4\n",
      "15\n"
     ]
    }
   ],
   "source": [
    "print(a)\n",
    "print(a.shape)\n",
    "print(a.dtype)\n",
    "print(a.ndim)\n",
    "print(a.size)\n",
    "print(a.itemsize)\n",
    "print(np.sum(a))"
   ]
  },
  {
   "cell_type": "code",
   "execution_count": 8,
   "id": "bfd53816-6dc5-48c0-ae74-0b516839be27",
   "metadata": {},
   "outputs": [
    {
     "name": "stdout",
     "output_type": "stream",
     "text": [
      "[ 0  4  9 16 25]\n"
     ]
    }
   ],
   "source": [
    "a[0] = 0\n",
    "b = a * np.array([1,2,3,4,5])\n",
    "print(b)"
   ]
  },
  {
   "cell_type": "markdown",
   "id": "1c728617-d576-43de-bd75-91970d72e732",
   "metadata": {},
   "source": [
    "### vector operations\n",
    "\n",
    "addition,scalar,dot-product"
   ]
  },
  {
   "cell_type": "code",
   "execution_count": 20,
   "id": "b157c2de-ddbd-4aa2-8916-49ee0c3b25eb",
   "metadata": {},
   "outputs": [
    {
     "name": "stdout",
     "output_type": "stream",
     "text": [
      "[ 8  3  1 15]\n",
      "[ 2 14 18 26]\n",
      "-67\n",
      "-67\n"
     ]
    }
   ],
   "source": [
    "a1 = np.array([1,7,9,13])\n",
    "a2 = np.array([7,-4,-8,2])\n",
    "\n",
    "a1 = a1.astype(int)\n",
    "a2 = a2.astype(int)\n",
    "\n",
    "added = np.add(a1,a2)\n",
    "scalar = 2 * a1\n",
    "dot = np.dot(a1,a2)\n",
    "dot2 = a1 @ a2\n",
    "\n",
    "print(added)\n",
    "print(scalar)\n",
    "print(dot)\n",
    "print(dot2)"
   ]
  },
  {
   "cell_type": "markdown",
   "id": "87f2e892-c975-4957-8ca1-728537784658",
   "metadata": {},
   "source": [
    "### multidimensional arrays (matrix)"
   ]
  },
  {
   "cell_type": "code",
   "execution_count": 22,
   "id": "2c449195-ca54-4881-a747-8e3ffabca0fd",
   "metadata": {},
   "outputs": [
    {
     "name": "stdout",
     "output_type": "stream",
     "text": [
      "[[1 2]\n",
      " [3 4]]\n",
      "(2, 2)\n"
     ]
    }
   ],
   "source": [
    "m = np.array([[1,2], [3,4]])\n",
    "print(m)\n",
    "print(m.shape)"
   ]
  },
  {
   "cell_type": "markdown",
   "id": "d8522121-4b12-458b-a2c0-c5232ac7f631",
   "metadata": {},
   "source": [
    "getting rows/columns of it:"
   ]
  },
  {
   "cell_type": "code",
   "execution_count": 24,
   "id": "0cbac5ef-a69b-45ab-9083-80747dd71896",
   "metadata": {},
   "outputs": [
    {
     "name": "stdout",
     "output_type": "stream",
     "text": [
      "[1 3]\n",
      "[3 4]\n"
     ]
    }
   ],
   "source": [
    "print(m[:,0])\n",
    "print(m[1,:])"
   ]
  },
  {
   "cell_type": "markdown",
   "id": "e9f4b104-79cc-4e0f-aa27-ffb64602f2cb",
   "metadata": {},
   "source": [
    "### np.linalg for matrices\n",
    "matrix operations/propreties"
   ]
  },
  {
   "cell_type": "code",
   "execution_count": 27,
   "id": "4e07f322-6e8d-4f4d-9ebf-e7cc9586995a",
   "metadata": {},
   "outputs": [
    {
     "name": "stdout",
     "output_type": "stream",
     "text": [
      "[[1 3]\n",
      " [2 4]]\n",
      "[[-2.   1. ]\n",
      " [ 1.5 -0.5]]\n",
      "-2.0000000000000004\n"
     ]
    }
   ],
   "source": [
    "print(m.T)\n",
    "print(np.linalg.inv(m))\n",
    "print(np.linalg.det(m))"
   ]
  },
  {
   "cell_type": "code",
   "execution_count": null,
   "id": "490067c4-1916-4aa9-9b5f-8df9aadf66d5",
   "metadata": {},
   "outputs": [],
   "source": []
  }
 ],
 "metadata": {
  "kernelspec": {
   "display_name": "Python 3 (ipykernel)",
   "language": "python",
   "name": "python3"
  },
  "language_info": {
   "codemirror_mode": {
    "name": "ipython",
    "version": 3
   },
   "file_extension": ".py",
   "mimetype": "text/x-python",
   "name": "python",
   "nbconvert_exporter": "python",
   "pygments_lexer": "ipython3",
   "version": "3.11.3"
  }
 },
 "nbformat": 4,
 "nbformat_minor": 5
}
